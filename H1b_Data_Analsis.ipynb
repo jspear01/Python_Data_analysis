{
 "cells": [
  {
   "cell_type": "code",
   "execution_count": 37,
   "id": "0be8b495",
   "metadata": {},
   "outputs": [],
   "source": [
    "import pandas as pd\n",
    "import numpy as np\n",
    "import seaborn as sns\n",
    "import matplotlib as plt"
   ]
  },
  {
   "cell_type": "code",
   "execution_count": 34,
   "id": "94aa8a55",
   "metadata": {},
   "outputs": [],
   "source": [
    "%matplotlib inline"
   ]
  },
  {
   "cell_type": "code",
   "execution_count": 2,
   "id": "30cebfdb",
   "metadata": {},
   "outputs": [
    {
     "data": {
      "text/plain": [
       "'/Users/junchangsong/Desktop/Python'"
      ]
     },
     "execution_count": 2,
     "metadata": {},
     "output_type": "execute_result"
    }
   ],
   "source": [
    "pwd"
   ]
  },
  {
   "cell_type": "code",
   "execution_count": 3,
   "id": "e20ad7bf",
   "metadata": {},
   "outputs": [],
   "source": [
    "# import Data"
   ]
  },
  {
   "cell_type": "code",
   "execution_count": 23,
   "id": "8ae64e5d",
   "metadata": {},
   "outputs": [
    {
     "name": "stderr",
     "output_type": "stream",
     "text": [
      "/Users/junchangsong/opt/anaconda3/lib/python3.8/site-packages/IPython/core/interactiveshell.py:3165: DtypeWarning: Columns (15,16,17,25) have mixed types.Specify dtype option on import or set low_memory=False.\n",
      "  has_raised = await self.run_ast_nodes(code_ast.body, cell_name,\n"
     ]
    }
   ],
   "source": [
    "df = pd.read_csv('/Users/junchangsong/Desktop/Python/archive/H-1B_Disclosure_Data_FY17.csv')"
   ]
  },
  {
   "cell_type": "code",
   "execution_count": 5,
   "id": "e1fb4565",
   "metadata": {},
   "outputs": [
    {
     "data": {
      "text/html": [
       "<div>\n",
       "<style scoped>\n",
       "    .dataframe tbody tr th:only-of-type {\n",
       "        vertical-align: middle;\n",
       "    }\n",
       "\n",
       "    .dataframe tbody tr th {\n",
       "        vertical-align: top;\n",
       "    }\n",
       "\n",
       "    .dataframe thead th {\n",
       "        text-align: right;\n",
       "    }\n",
       "</style>\n",
       "<table border=\"1\" class=\"dataframe\">\n",
       "  <thead>\n",
       "    <tr style=\"text-align: right;\">\n",
       "      <th></th>\n",
       "      <th>Unnamed: 0</th>\n",
       "      <th>CASE_NUMBER</th>\n",
       "      <th>CASE_STATUS</th>\n",
       "      <th>CASE_SUBMITTED</th>\n",
       "      <th>DECISION_DATE</th>\n",
       "      <th>VISA_CLASS</th>\n",
       "      <th>EMPLOYMENT_START_DATE</th>\n",
       "      <th>EMPLOYMENT_END_DATE</th>\n",
       "      <th>EMPLOYER_NAME</th>\n",
       "      <th>EMPLOYER_BUSINESS_DBA</th>\n",
       "      <th>...</th>\n",
       "      <th>H1B_DEPENDENT</th>\n",
       "      <th>WILLFUL_VIOLATOR</th>\n",
       "      <th>SUPPORT_H1B</th>\n",
       "      <th>LABOR_CON_AGREE</th>\n",
       "      <th>PUBLIC_DISCLOSURE_LOCATION</th>\n",
       "      <th>WORKSITE_CITY</th>\n",
       "      <th>WORKSITE_COUNTY</th>\n",
       "      <th>WORKSITE_STATE</th>\n",
       "      <th>WORKSITE_POSTAL_CODE</th>\n",
       "      <th>ORIGINAL_CERT_DATE</th>\n",
       "    </tr>\n",
       "  </thead>\n",
       "  <tbody>\n",
       "    <tr>\n",
       "      <th>0</th>\n",
       "      <td>0</td>\n",
       "      <td>I-200-16055-173457</td>\n",
       "      <td>CERTIFIED-WITHDRAWN</td>\n",
       "      <td>2016-02-24</td>\n",
       "      <td>2016-10-01</td>\n",
       "      <td>H-1B</td>\n",
       "      <td>2016-08-10</td>\n",
       "      <td>2019-08-10</td>\n",
       "      <td>DISCOVER PRODUCTS INC.</td>\n",
       "      <td>NaN</td>\n",
       "      <td>...</td>\n",
       "      <td>N</td>\n",
       "      <td>N</td>\n",
       "      <td>NaN</td>\n",
       "      <td>Y</td>\n",
       "      <td>NaN</td>\n",
       "      <td>RIVERWOODS</td>\n",
       "      <td>LAKE</td>\n",
       "      <td>IL</td>\n",
       "      <td>60015</td>\n",
       "      <td>2016-03-01</td>\n",
       "    </tr>\n",
       "    <tr>\n",
       "      <th>1</th>\n",
       "      <td>1</td>\n",
       "      <td>I-200-16064-557834</td>\n",
       "      <td>CERTIFIED-WITHDRAWN</td>\n",
       "      <td>2016-03-04</td>\n",
       "      <td>2016-10-01</td>\n",
       "      <td>H-1B</td>\n",
       "      <td>2016-08-16</td>\n",
       "      <td>2019-08-16</td>\n",
       "      <td>DFS SERVICES LLC</td>\n",
       "      <td>NaN</td>\n",
       "      <td>...</td>\n",
       "      <td>N</td>\n",
       "      <td>N</td>\n",
       "      <td>NaN</td>\n",
       "      <td>Y</td>\n",
       "      <td>NaN</td>\n",
       "      <td>RIVERWOODS</td>\n",
       "      <td>LAKE</td>\n",
       "      <td>IL</td>\n",
       "      <td>60015</td>\n",
       "      <td>2016-03-08</td>\n",
       "    </tr>\n",
       "    <tr>\n",
       "      <th>2</th>\n",
       "      <td>2</td>\n",
       "      <td>I-200-16063-996093</td>\n",
       "      <td>CERTIFIED-WITHDRAWN</td>\n",
       "      <td>2016-03-10</td>\n",
       "      <td>2016-10-01</td>\n",
       "      <td>H-1B</td>\n",
       "      <td>2016-09-09</td>\n",
       "      <td>2019-09-09</td>\n",
       "      <td>EASTBANC TECHNOLOGIES LLC</td>\n",
       "      <td>NaN</td>\n",
       "      <td>...</td>\n",
       "      <td>Y</td>\n",
       "      <td>N</td>\n",
       "      <td>Y</td>\n",
       "      <td>NaN</td>\n",
       "      <td>NaN</td>\n",
       "      <td>WASHINGTON</td>\n",
       "      <td>NaN</td>\n",
       "      <td>DC</td>\n",
       "      <td>20007</td>\n",
       "      <td>2016-03-16</td>\n",
       "    </tr>\n",
       "    <tr>\n",
       "      <th>3</th>\n",
       "      <td>3</td>\n",
       "      <td>I-200-16272-196340</td>\n",
       "      <td>WITHDRAWN</td>\n",
       "      <td>2016-09-28</td>\n",
       "      <td>2016-10-01</td>\n",
       "      <td>H-1B</td>\n",
       "      <td>2017-01-26</td>\n",
       "      <td>2020-01-25</td>\n",
       "      <td>INFO SERVICES LLC</td>\n",
       "      <td>NaN</td>\n",
       "      <td>...</td>\n",
       "      <td>Y</td>\n",
       "      <td>N</td>\n",
       "      <td>Y</td>\n",
       "      <td>NaN</td>\n",
       "      <td>NaN</td>\n",
       "      <td>JERSEY CITY</td>\n",
       "      <td>HUDSON</td>\n",
       "      <td>NJ</td>\n",
       "      <td>07302</td>\n",
       "      <td>NaN</td>\n",
       "    </tr>\n",
       "    <tr>\n",
       "      <th>4</th>\n",
       "      <td>4</td>\n",
       "      <td>I-200-15053-636744</td>\n",
       "      <td>CERTIFIED-WITHDRAWN</td>\n",
       "      <td>2015-02-22</td>\n",
       "      <td>2016-10-02</td>\n",
       "      <td>H-1B</td>\n",
       "      <td>2015-03-01</td>\n",
       "      <td>2018-03-01</td>\n",
       "      <td>BB&amp;T CORPORATION</td>\n",
       "      <td>NaN</td>\n",
       "      <td>...</td>\n",
       "      <td>N</td>\n",
       "      <td>N</td>\n",
       "      <td>NaN</td>\n",
       "      <td>Y</td>\n",
       "      <td>NaN</td>\n",
       "      <td>NEW YORK</td>\n",
       "      <td>NEW YORK</td>\n",
       "      <td>NY</td>\n",
       "      <td>10036</td>\n",
       "      <td>2015-02-26</td>\n",
       "    </tr>\n",
       "  </tbody>\n",
       "</table>\n",
       "<p>5 rows × 53 columns</p>\n",
       "</div>"
      ],
      "text/plain": [
       "   Unnamed: 0         CASE_NUMBER          CASE_STATUS CASE_SUBMITTED  \\\n",
       "0           0  I-200-16055-173457  CERTIFIED-WITHDRAWN     2016-02-24   \n",
       "1           1  I-200-16064-557834  CERTIFIED-WITHDRAWN     2016-03-04   \n",
       "2           2  I-200-16063-996093  CERTIFIED-WITHDRAWN     2016-03-10   \n",
       "3           3  I-200-16272-196340            WITHDRAWN     2016-09-28   \n",
       "4           4  I-200-15053-636744  CERTIFIED-WITHDRAWN     2015-02-22   \n",
       "\n",
       "  DECISION_DATE VISA_CLASS EMPLOYMENT_START_DATE EMPLOYMENT_END_DATE  \\\n",
       "0    2016-10-01       H-1B            2016-08-10          2019-08-10   \n",
       "1    2016-10-01       H-1B            2016-08-16          2019-08-16   \n",
       "2    2016-10-01       H-1B            2016-09-09          2019-09-09   \n",
       "3    2016-10-01       H-1B            2017-01-26          2020-01-25   \n",
       "4    2016-10-02       H-1B            2015-03-01          2018-03-01   \n",
       "\n",
       "               EMPLOYER_NAME EMPLOYER_BUSINESS_DBA  ... H1B_DEPENDENT  \\\n",
       "0     DISCOVER PRODUCTS INC.                   NaN  ...             N   \n",
       "1           DFS SERVICES LLC                   NaN  ...             N   \n",
       "2  EASTBANC TECHNOLOGIES LLC                   NaN  ...             Y   \n",
       "3          INFO SERVICES LLC                   NaN  ...             Y   \n",
       "4           BB&T CORPORATION                   NaN  ...             N   \n",
       "\n",
       "  WILLFUL_VIOLATOR SUPPORT_H1B LABOR_CON_AGREE PUBLIC_DISCLOSURE_LOCATION  \\\n",
       "0                N         NaN               Y                        NaN   \n",
       "1                N         NaN               Y                        NaN   \n",
       "2                N           Y             NaN                        NaN   \n",
       "3                N           Y             NaN                        NaN   \n",
       "4                N         NaN               Y                        NaN   \n",
       "\n",
       "  WORKSITE_CITY WORKSITE_COUNTY WORKSITE_STATE WORKSITE_POSTAL_CODE  \\\n",
       "0    RIVERWOODS            LAKE             IL                60015   \n",
       "1    RIVERWOODS            LAKE             IL                60015   \n",
       "2    WASHINGTON             NaN             DC                20007   \n",
       "3   JERSEY CITY          HUDSON             NJ                07302   \n",
       "4      NEW YORK        NEW YORK             NY                10036   \n",
       "\n",
       "  ORIGINAL_CERT_DATE  \n",
       "0         2016-03-01  \n",
       "1         2016-03-08  \n",
       "2         2016-03-16  \n",
       "3                NaN  \n",
       "4         2015-02-26  \n",
       "\n",
       "[5 rows x 53 columns]"
      ]
     },
     "execution_count": 5,
     "metadata": {},
     "output_type": "execute_result"
    }
   ],
   "source": [
    "df.head()"
   ]
  },
  {
   "cell_type": "code",
   "execution_count": 6,
   "id": "667fbf94",
   "metadata": {},
   "outputs": [
    {
     "data": {
      "text/plain": [
       "array(['H-1B', 'E-3 Australian', 'H-1B1 Singapore', 'H-1B1 Chile'],\n",
       "      dtype=object)"
      ]
     },
     "execution_count": 6,
     "metadata": {},
     "output_type": "execute_result"
    }
   ],
   "source": [
    "df['VISA_CLASS'].unique()"
   ]
  },
  {
   "cell_type": "code",
   "execution_count": 8,
   "id": "38bd3427",
   "metadata": {},
   "outputs": [
    {
     "data": {
      "text/plain": [
       "<AxesSubplot:xlabel='VISA_CLASS', ylabel='count'>"
      ]
     },
     "execution_count": 8,
     "metadata": {},
     "output_type": "execute_result"
    },
    {
     "data": {
      "image/png": "[encoded data removed]",
      "text/plain": [
       "<Figure size 432x288 with 1 Axes>"
      ]
     },
     "metadata": {
      "needs_background": "light"
     },
     "output_type": "display_data"
    }
   ],
   "source": [
    "# creating Count plots to see the counts of Visa class\n",
    "\n",
    "sns.countplot(x='VISA_CLASS', data = df)"
   ]
  },
  {
   "cell_type": "code",
   "execution_count": null,
   "id": "7c369280",
   "metadata": {},
   "outputs": [],
   "source": [
    "df['']"
   ]
  },
  {
   "cell_type": "code",
   "execution_count": 10,
   "id": "08054a2b",
   "metadata": {},
   "outputs": [
    {
     "data": {
      "text/plain": [
       "<AxesSubplot:xlabel='CASE_STATUS', ylabel='count'>"
      ]
     },
     "execution_count": 10,
     "metadata": {},
     "output_type": "execute_result"
    },
    {
     "data": {
      "image/png": "[encoded data removed]",
      "text/plain": [
       "<Figure size 432x288 with 1 Axes>"
      ]
     },
     "metadata": {
      "needs_background": "light"
     },
     "output_type": "display_data"
    }
   ],
   "source": [
    "sns.countplot(x='CASE_STATUS', data= df)"
   ]
  },
  {
   "cell_type": "code",
   "execution_count": 31,
   "id": "7a2fd64c",
   "metadata": {},
   "outputs": [
    {
     "data": {
      "text/plain": [
       "array(['IL', 'DC', 'NJ', 'NY', 'GA', 'WA', 'TX', 'CA', 'OR', 'OH', 'AR',\n",
       "       'NC', 'OK', 'PA', 'AZ', 'MA', 'WI', 'FL', 'VA', 'KS', 'MD', 'DE',\n",
       "       'CT', 'LA', 'IN', 'MO', 'MN', 'IA', 'RI', 'KY', 'GU', 'NH', 'MS',\n",
       "       'MI', 'UT', 'CO', 'TN', 'NV', 'NE', 'SC', 'PR', 'ID', 'AL', 'NM',\n",
       "       'WV', 'ME', 'VT', 'ND', 'HI', 'MT', 'AK', 'MP', 'SD', 'WY', 'VI',\n",
       "       nan, 'PW', 'FM'], dtype=object)"
      ]
     },
     "execution_count": 31,
     "metadata": {},
     "output_type": "execute_result"
    }
   ],
   "source": [
    "df['WORKSITE_STATE'].unique()"
   ]
  },
  {
   "cell_type": "code",
   "execution_count": 32,
   "id": "0ed53f98",
   "metadata": {},
   "outputs": [
    {
     "data": {
      "text/plain": [
       "CA    119409\n",
       "TX     66163\n",
       "NY     54974\n",
       "NJ     42571\n",
       "IL     32082\n",
       "WA     25476\n",
       "MA     25016\n",
       "GA     22521\n",
       "FL     21815\n",
       "PA     21600\n",
       "MI     20222\n",
       "VA     17856\n",
       "NC     17134\n",
       "OH     15466\n",
       "MD     10672\n",
       "MN     10390\n",
       "AZ      9453\n",
       "MO      8136\n",
       "CT      8133\n",
       "TN      6860\n",
       "CO      6576\n",
       "WI      6509\n",
       "IN      6115\n",
       "OR      4725\n",
       "DC      4203\n",
       "DE      3360\n",
       "UT      3100\n",
       "IA      3095\n",
       "SC      2907\n",
       "AR      2781\n",
       "KS      2738\n",
       "KY      2626\n",
       "RI      2342\n",
       "NE      2083\n",
       "LA      1943\n",
       "OK      1740\n",
       "AL      1735\n",
       "NV      1473\n",
       "NH      1417\n",
       "ID       874\n",
       "NM       861\n",
       "MS       745\n",
       "ME       657\n",
       "PR       562\n",
       "HI       552\n",
       "WV       526\n",
       "ND       454\n",
       "VT       407\n",
       "MP       350\n",
       "GU       341\n",
       "SD       299\n",
       "AK       204\n",
       "MT       194\n",
       "WY       144\n",
       "VI        51\n",
       "PW         2\n",
       "FM         1\n",
       "Name: WORKSITE_STATE, dtype: int64"
      ]
     },
     "execution_count": 32,
     "metadata": {},
     "output_type": "execute_result"
    }
   ],
   "source": [
    "df['WORKSITE_STATE'].value_counts()"
   ]
  },
  {
   "cell_type": "code",
   "execution_count": 42,
   "id": "aa673a52",
   "metadata": {},
   "outputs": [
    {
     "data": {
      "text/plain": [
       "<AxesSubplot:xlabel='WORKSITE_STATE', ylabel='count'>"
      ]
     },
     "execution_count": 42,
     "metadata": {},
     "output_type": "execute_result"
    },
    {
     "data": {
      "image/png": "[encoded data removed]",
      "text/plain": [
       "<Figure size 432x288 with 1 Axes>"
      ]
     },
     "metadata": {
      "needs_background": "light"
     },
     "output_type": "display_data"
    }
   ],
   "source": [
    "sns.countplot(x='WORKSITE_STATE', data= df,)"
   ]
  },
  {
   "cell_type": "code",
   "execution_count": 11,
   "id": "f2b47b5d",
   "metadata": {},
   "outputs": [
    {
     "name": "stdout",
     "output_type": "stream",
     "text": [
      "<class 'pandas.core.frame.DataFrame'>\n",
      "RangeIndex: 624650 entries, 0 to 624649\n",
      "Data columns (total 53 columns):\n",
      " #   Column                       Non-Null Count   Dtype  \n",
      "---  ------                       --------------   -----  \n",
      " 0   Unnamed: 0                   624650 non-null  int64  \n",
      " 1   CASE_NUMBER                  624650 non-null  object \n",
      " 2   CASE_STATUS                  624650 non-null  object \n",
      " 3   CASE_SUBMITTED               624650 non-null  object \n",
      " 4   DECISION_DATE                624650 non-null  object \n",
      " 5   VISA_CLASS                   624650 non-null  object \n",
      " 6   EMPLOYMENT_START_DATE        624621 non-null  object \n",
      " 7   EMPLOYMENT_END_DATE          624620 non-null  object \n",
      " 8   EMPLOYER_NAME                624594 non-null  object \n",
      " 9   EMPLOYER_BUSINESS_DBA        43270 non-null   object \n",
      " 10  EMPLOYER_ADDRESS             624643 non-null  object \n",
      " 11  EMPLOYER_CITY                624635 non-null  object \n",
      " 12  EMPLOYER_STATE               624632 non-null  object \n",
      " 13  EMPLOYER_POSTAL_CODE         624632 non-null  object \n",
      " 14  EMPLOYER_COUNTRY             528143 non-null  object \n",
      " 15  EMPLOYER_PROVINCE            6116 non-null    object \n",
      " 16  EMPLOYER_PHONE               528142 non-null  object \n",
      " 17  EMPLOYER_PHONE_EXT           27872 non-null   object \n",
      " 18  AGENT_REPRESENTING_EMPLOYER  528144 non-null  object \n",
      " 19  AGENT_ATTORNEY_NAME          624650 non-null  object \n",
      " 20  AGENT_ATTORNEY_CITY          351344 non-null  object \n",
      " 21  AGENT_ATTORNEY_STATE         336009 non-null  object \n",
      " 22  JOB_TITLE                    624645 non-null  object \n",
      " 23  SOC_CODE                     624648 non-null  object \n",
      " 24  SOC_NAME                     624647 non-null  object \n",
      " 25  NAICS_CODE                   624643 non-null  object \n",
      " 26  TOTAL_WORKERS                624650 non-null  int64  \n",
      " 27  NEW_EMPLOYMENT               624650 non-null  int64  \n",
      " 28  CONTINUED_EMPLOYMENT         624650 non-null  int64  \n",
      " 29  CHANGE_PREVIOUS_EMPLOYMENT   624650 non-null  int64  \n",
      " 30  NEW_CONCURRENT_EMPLOYMENT    624650 non-null  int64  \n",
      " 31  CHANGE_EMPLOYER              624650 non-null  int64  \n",
      " 32  AMENDED_PETITION             624650 non-null  int64  \n",
      " 33  FULL_TIME_POSITION           624645 non-null  object \n",
      " 34  PREVAILING_WAGE              624649 non-null  float64\n",
      " 35  PW_UNIT_OF_PAY               624604 non-null  object \n",
      " 36  PW_WAGE_LEVEL                500930 non-null  object \n",
      " 37  PW_SOURCE                    624604 non-null  object \n",
      " 38  PW_SOURCE_YEAR               624605 non-null  float64\n",
      " 39  PW_SOURCE_OTHER              618278 non-null  object \n",
      " 40  WAGE_RATE_OF_PAY_FROM        624650 non-null  float64\n",
      " 41  WAGE_RATE_OF_PAY_TO          624649 non-null  float64\n",
      " 42  WAGE_UNIT_OF_PAY             624642 non-null  object \n",
      " 43  H1B_DEPENDENT                610908 non-null  object \n",
      " 44  WILLFUL_VIOLATOR             610905 non-null  object \n",
      " 45  SUPPORT_H1B                  240476 non-null  object \n",
      " 46  LABOR_CON_AGREE              244975 non-null  object \n",
      " 47  PUBLIC_DISCLOSURE_LOCATION   0 non-null       float64\n",
      " 48  WORKSITE_CITY                624637 non-null  object \n",
      " 49  WORKSITE_COUNTY              623471 non-null  object \n",
      " 50  WORKSITE_STATE               624641 non-null  object \n",
      " 51  WORKSITE_POSTAL_CODE         624631 non-null  object \n",
      " 52  ORIGINAL_CERT_DATE           49708 non-null   object \n",
      "dtypes: float64(5), int64(8), object(40)\n",
      "memory usage: 252.6+ MB\n"
     ]
    }
   ],
   "source": [
    "df.info()"
   ]
  },
  {
   "cell_type": "code",
   "execution_count": 24,
   "id": "7b5cc1ef",
   "metadata": {},
   "outputs": [
    {
     "data": {
      "text/plain": [
       "CERTIFIED              545694\n",
       "CERTIFIED-WITHDRAWN     49704\n",
       "WITHDRAWN               20772\n",
       "DENIED                   8480\n",
       "Name: CASE_STATUS, dtype: int64"
      ]
     },
     "execution_count": 24,
     "metadata": {},
     "output_type": "execute_result"
    }
   ],
   "source": [
    "df['CASE_STATUS'].value_counts()"
   ]
  },
  {
   "cell_type": "code",
   "execution_count": 29,
   "id": "4ef807a1",
   "metadata": {},
   "outputs": [],
   "source": [
    "approved_rate = (544694+49704)/(8480+545694+49704+20772)"
   ]
  },
  {
   "cell_type": "code",
   "execution_count": 30,
   "id": "537e5af5",
   "metadata": {},
   "outputs": [
    {
     "data": {
      "text/plain": [
       "0.9515696790202514"
      ]
     },
     "execution_count": 30,
     "metadata": {},
     "output_type": "execute_result"
    }
   ],
   "source": [
    "approved_rate"
   ]
  },
  {
   "cell_type": "code",
   "execution_count": 44,
   "id": "0db856c2",
   "metadata": {},
   "outputs": [
    {
     "data": {
      "text/plain": [
       "INFOSYS LIMITED                          20587\n",
       "TATA CONSULTANCY SERVICES LIMITED        13529\n",
       "CAPGEMINI AMERICA INC                     9604\n",
       "IBM INDIA PRIVATE LIMITED                 8734\n",
       "TECH MAHINDRA (AMERICAS),INC.             7543\n",
       "                                         ...  \n",
       "GLOBAL ENVIRONMENTAL ENTERPRISES, LLC        1\n",
       "AULAKH AND CHAHAL, INC.                      1\n",
       "CLICK 3X                                     1\n",
       "ALICE COMPUTERWORKS CORPORATION              1\n",
       "TMS PLUMBING AND HEATING CORP.               1\n",
       "Name: EMPLOYER_NAME, Length: 71170, dtype: int64"
      ]
     },
     "execution_count": 44,
     "metadata": {},
     "output_type": "execute_result"
    }
   ],
   "source": [
    "df['EMPLOYER_NAME'].value_counts()"
   ]
  },
  {
   "cell_type": "code",
   "execution_count": 47,
   "id": "24e649ea",
   "metadata": {},
   "outputs": [
    {
     "data": {
      "text/plain": [
       "Index(['Unnamed: 0', 'CASE_NUMBER', 'CASE_STATUS', 'CASE_SUBMITTED',\n",
       "       'DECISION_DATE', 'VISA_CLASS', 'EMPLOYMENT_START_DATE',\n",
       "       'EMPLOYMENT_END_DATE', 'EMPLOYER_NAME', 'EMPLOYER_BUSINESS_DBA',\n",
       "       'EMPLOYER_ADDRESS', 'EMPLOYER_CITY', 'EMPLOYER_STATE',\n",
       "       'EMPLOYER_POSTAL_CODE', 'EMPLOYER_COUNTRY', 'EMPLOYER_PROVINCE',\n",
       "       'EMPLOYER_PHONE', 'EMPLOYER_PHONE_EXT', 'AGENT_REPRESENTING_EMPLOYER',\n",
       "       'AGENT_ATTORNEY_NAME', 'AGENT_ATTORNEY_CITY', 'AGENT_ATTORNEY_STATE',\n",
       "       'JOB_TITLE', 'SOC_CODE', 'SOC_NAME', 'NAICS_CODE', 'TOTAL_WORKERS',\n",
       "       'NEW_EMPLOYMENT', 'CONTINUED_EMPLOYMENT', 'CHANGE_PREVIOUS_EMPLOYMENT',\n",
       "       'NEW_CONCURRENT_EMPLOYMENT', 'CHANGE_EMPLOYER', 'AMENDED_PETITION',\n",
       "       'FULL_TIME_POSITION', 'PREVAILING_WAGE', 'PW_UNIT_OF_PAY',\n",
       "       'PW_WAGE_LEVEL', 'PW_SOURCE', 'PW_SOURCE_YEAR', 'PW_SOURCE_OTHER',\n",
       "       'WAGE_RATE_OF_PAY_FROM', 'WAGE_RATE_OF_PAY_TO', 'WAGE_UNIT_OF_PAY',\n",
       "       'H1B_DEPENDENT', 'WILLFUL_VIOLATOR', 'SUPPORT_H1B', 'LABOR_CON_AGREE',\n",
       "       'PUBLIC_DISCLOSURE_LOCATION', 'WORKSITE_CITY', 'WORKSITE_COUNTY',\n",
       "       'WORKSITE_STATE', 'WORKSITE_POSTAL_CODE', 'ORIGINAL_CERT_DATE'],\n",
       "      dtype='object')"
      ]
     },
     "execution_count": 47,
     "metadata": {},
     "output_type": "execute_result"
    }
   ],
   "source": [
    "df.columns"
   ]
  },
  {
   "cell_type": "code",
   "execution_count": null,
   "id": "12f21510",
   "metadata": {},
   "outputs": [],
   "source": []
  }
 ],
 "metadata": {
  "kernelspec": {
   "display_name": "Python 3",
   "language": "python",
   "name": "python3"
  },
  "language_info": {
   "codemirror_mode": {
    "name": "ipython",
    "version": 3
   },
   "file_extension": ".py",
   "mimetype": "text/x-python",
   "name": "python",
   "nbconvert_exporter": "python",
   "pygments_lexer": "ipython3",
   "version": "3.8.10"
  }
 },
 "nbformat": 4,
 "nbformat_minor": 5
}
